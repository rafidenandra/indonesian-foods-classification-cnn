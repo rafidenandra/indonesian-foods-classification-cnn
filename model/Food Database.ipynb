{
 "cells": [
  {
   "cell_type": "code",
   "execution_count": 1,
   "metadata": {},
   "outputs": [],
   "source": [
    "import pandas as pd"
   ]
  },
  {
   "cell_type": "code",
   "execution_count": 2,
   "metadata": {},
   "outputs": [
    {
     "data": {
      "text/html": [
       "<div>\n",
       "<style scoped>\n",
       "    .dataframe tbody tr th:only-of-type {\n",
       "        vertical-align: middle;\n",
       "    }\n",
       "\n",
       "    .dataframe tbody tr th {\n",
       "        vertical-align: top;\n",
       "    }\n",
       "\n",
       "    .dataframe thead th {\n",
       "        text-align: right;\n",
       "    }\n",
       "</style>\n",
       "<table border=\"1\" class=\"dataframe\">\n",
       "  <thead>\n",
       "    <tr style=\"text-align: right;\">\n",
       "      <th></th>\n",
       "      <th>class</th>\n",
       "      <th>bahan</th>\n",
       "      <th>cara memasak</th>\n",
       "      <th>gizi</th>\n",
       "    </tr>\n",
       "  </thead>\n",
       "  <tbody>\n",
       "    <tr>\n",
       "      <th>0</th>\n",
       "      <td>Ayam Panggang</td>\n",
       "      <td>8 potong ayam, 4 sdm kecap manis, 1 sdt garam,...</td>\n",
       "      <td>Lumuri ayam dengan jeruk nipis, diamkan selama...</td>\n",
       "      <td>Kalori (147), Lemak (8,36 g), Karbohidrat (0 g...</td>\n",
       "    </tr>\n",
       "    <tr>\n",
       "      <th>1</th>\n",
       "      <td>Gurami Bakar</td>\n",
       "      <td>500 gram ikan gurame, 6 sdm kecap manis, jeruk...</td>\n",
       "      <td>Cuci bersih ikan, beri perasan jeruk nipis dan...</td>\n",
       "      <td>Kalori (125), Lemak (5,49 g), Karbohidrat (0 g...</td>\n",
       "    </tr>\n",
       "    <tr>\n",
       "      <th>2</th>\n",
       "      <td>Nasi Kebuli Kambing</td>\n",
       "      <td>1 kilogram beras lokal (long grain), 1 kilogra...</td>\n",
       "      <td>Tumis bawang bombai dengan margarin dan minyak...</td>\n",
       "      <td>Kalori (159), Lemak (6,33 g), Karbohidrat (20,...</td>\n",
       "    </tr>\n",
       "    <tr>\n",
       "      <th>3</th>\n",
       "      <td>Rendang Sapi</td>\n",
       "      <td>4 lembar daun jeruk, 3 Butir kelapa, diambil s...</td>\n",
       "      <td>Haluskan semua bahan Bumbu dengan diulek atau ...</td>\n",
       "      <td>Kalori (195), Lemak (11,07 g), Karbohidrat (4,...</td>\n",
       "    </tr>\n",
       "    <tr>\n",
       "      <th>4</th>\n",
       "      <td>Tahu Isi</td>\n",
       "      <td>10 buah tahu cokelat kotak dan buang isinya se...</td>\n",
       "      <td>Panaskan minyak lalu tumis bumbu halus sampai ...</td>\n",
       "      <td>Kalori (134), Lemak (6,64 g), Karbohidrat (8,6...</td>\n",
       "    </tr>\n",
       "    <tr>\n",
       "      <th>5</th>\n",
       "      <td>Telur Balado</td>\n",
       "      <td>butir telur rebus, 2 biji cabai merah, 3 biji ...</td>\n",
       "      <td>Goreng telur. Angkat lalu sisihkan., Haluskan ...</td>\n",
       "      <td>Kalori (71), Lemak (5,75 g), Karbohidrat (1,22...</td>\n",
       "    </tr>\n",
       "    <tr>\n",
       "      <th>6</th>\n",
       "      <td>Tempe Orek</td>\n",
       "      <td>300 g tempe, potong dadu 2 cm, goreng hingga s...</td>\n",
       "      <td>Panaskan minyak, tumis bawang putih, lengkuas,...</td>\n",
       "      <td>Kalori (175), Lemak (8,2 g), Karbohidrat (15,6...</td>\n",
       "    </tr>\n",
       "    <tr>\n",
       "      <th>7</th>\n",
       "      <td>Tumis Udang</td>\n",
       "      <td>200 gr udang kupas kulit, 10 buah buncis iris ...</td>\n",
       "      <td>Panaskan minyak, tumis bawang merah, bawang pu...</td>\n",
       "      <td>Kalori (7), Lemak (0,12 g), Karbohidrat (0,06 ...</td>\n",
       "    </tr>\n",
       "  </tbody>\n",
       "</table>\n",
       "</div>"
      ],
      "text/plain": [
       "                 class                                              bahan  \\\n",
       "0        Ayam Panggang  8 potong ayam, 4 sdm kecap manis, 1 sdt garam,...   \n",
       "1         Gurami Bakar  500 gram ikan gurame, 6 sdm kecap manis, jeruk...   \n",
       "2  Nasi Kebuli Kambing  1 kilogram beras lokal (long grain), 1 kilogra...   \n",
       "3         Rendang Sapi  4 lembar daun jeruk, 3 Butir kelapa, diambil s...   \n",
       "4             Tahu Isi  10 buah tahu cokelat kotak dan buang isinya se...   \n",
       "5         Telur Balado  butir telur rebus, 2 biji cabai merah, 3 biji ...   \n",
       "6           Tempe Orek  300 g tempe, potong dadu 2 cm, goreng hingga s...   \n",
       "7          Tumis Udang  200 gr udang kupas kulit, 10 buah buncis iris ...   \n",
       "\n",
       "                                        cara memasak  \\\n",
       "0  Lumuri ayam dengan jeruk nipis, diamkan selama...   \n",
       "1  Cuci bersih ikan, beri perasan jeruk nipis dan...   \n",
       "2  Tumis bawang bombai dengan margarin dan minyak...   \n",
       "3  Haluskan semua bahan Bumbu dengan diulek atau ...   \n",
       "4  Panaskan minyak lalu tumis bumbu halus sampai ...   \n",
       "5  Goreng telur. Angkat lalu sisihkan., Haluskan ...   \n",
       "6  Panaskan minyak, tumis bawang putih, lengkuas,...   \n",
       "7  Panaskan minyak, tumis bawang merah, bawang pu...   \n",
       "\n",
       "                                                gizi  \n",
       "0  Kalori (147), Lemak (8,36 g), Karbohidrat (0 g...  \n",
       "1  Kalori (125), Lemak (5,49 g), Karbohidrat (0 g...  \n",
       "2  Kalori (159), Lemak (6,33 g), Karbohidrat (20,...  \n",
       "3  Kalori (195), Lemak (11,07 g), Karbohidrat (4,...  \n",
       "4  Kalori (134), Lemak (6,64 g), Karbohidrat (8,6...  \n",
       "5  Kalori (71), Lemak (5,75 g), Karbohidrat (1,22...  \n",
       "6  Kalori (175), Lemak (8,2 g), Karbohidrat (15,6...  \n",
       "7  Kalori (7), Lemak (0,12 g), Karbohidrat (0,06 ...  "
      ]
     },
     "execution_count": 2,
     "metadata": {},
     "output_type": "execute_result"
    }
   ],
   "source": [
    "food_df = pd.read_csv('../static/food_db.csv')\n",
    "food_df"
   ]
  },
  {
   "cell_type": "code",
   "execution_count": 21,
   "metadata": {},
   "outputs": [],
   "source": [
    "new_food_df = food_df.loc[0]"
   ]
  },
  {
   "cell_type": "code",
   "execution_count": 29,
   "metadata": {},
   "outputs": [
    {
     "data": {
      "text/plain": [
       "'Kalori (147), Lemak (8,36 g), Karbohidrat (0 g), Protein (16,79 g)\\n'"
      ]
     },
     "execution_count": 29,
     "metadata": {},
     "output_type": "execute_result"
    }
   ],
   "source": [
    "new_food_df[3]"
   ]
  },
  {
   "cell_type": "code",
   "execution_count": 27,
   "metadata": {},
   "outputs": [
    {
     "data": {
      "text/plain": [
       "'8 potong ayam'"
      ]
     },
     "execution_count": 27,
     "metadata": {},
     "output_type": "execute_result"
    }
   ],
   "source": [
    "bahan = new_food_df[1].split(', ')\n",
    "bahan[0]"
   ]
  },
  {
   "cell_type": "code",
   "execution_count": 6,
   "metadata": {},
   "outputs": [
    {
     "data": {
      "text/plain": [
       "[0    [8 potong ayam, 4 sdm kecap manis, 1 sdt garam...\n",
       " 1    [500 gram ikan gurame, 6 sdm kecap manis, jeru...\n",
       " 2    [1 kilogram beras lokal (long grain), 1 kilogr...\n",
       " 3    [4 lembar daun jeruk, 3 Butir kelapa, diambil ...\n",
       " 4    [10 buah tahu cokelat kotak dan buang isinya s...\n",
       " 5    [butir telur rebus, 2 biji cabai merah, 3 biji...\n",
       " 6    [300 g tempe, potong dadu 2 cm, goreng hingga ...\n",
       " 7    [200 gr udang kupas kulit, 10 buah buncis iris...\n",
       " Name: bahan, dtype: object]"
      ]
     },
     "execution_count": 6,
     "metadata": {},
     "output_type": "execute_result"
    }
   ],
   "source": [
    "test_bahan = [food_df.bahan.str.split(', ')]\n",
    "test_bahan"
   ]
  },
  {
   "cell_type": "code",
   "execution_count": 12,
   "metadata": {},
   "outputs": [
    {
     "data": {
      "text/plain": [
       "0    [8 potong ayam, 4 sdm kecap manis, 1 sdt garam...\n",
       "1    [500 gram ikan gurame, 6 sdm kecap manis, jeru...\n",
       "2    [1 kilogram beras lokal (long grain), 1 kilogr...\n",
       "3    [4 lembar daun jeruk, 3 Butir kelapa, diambil ...\n",
       "4    [10 buah tahu cokelat kotak dan buang isinya s...\n",
       "5    [butir telur rebus, 2 biji cabai merah, 3 biji...\n",
       "6    [300 g tempe, potong dadu 2 cm, goreng hingga ...\n",
       "7    [200 gr udang kupas kulit, 10 buah buncis iris...\n",
       "Name: bahan, dtype: object"
      ]
     },
     "execution_count": 12,
     "metadata": {},
     "output_type": "execute_result"
    }
   ],
   "source": [
    "test_bahan[0]"
   ]
  },
  {
   "cell_type": "code",
   "execution_count": 13,
   "metadata": {},
   "outputs": [
    {
     "data": {
      "text/plain": [
       "['8 potong ayam',\n",
       " '4 sdm kecap manis',\n",
       " '1 sdt garam',\n",
       " '1/2 sdt gula pasir',\n",
       " '2 daun salam',\n",
       " '3 cm lengkuas geprek',\n",
       " '1 buah jeruk nipis',\n",
       " '100 ml air',\n",
       " '2 sdm minyak goreng']"
      ]
     },
     "execution_count": 13,
     "metadata": {},
     "output_type": "execute_result"
    }
   ],
   "source": [
    "test_bahan[0][0]"
   ]
  },
  {
   "cell_type": "code",
   "execution_count": 14,
   "metadata": {},
   "outputs": [
    {
     "data": {
      "text/plain": [
       "'8 potong ayam'"
      ]
     },
     "execution_count": 14,
     "metadata": {},
     "output_type": "execute_result"
    }
   ],
   "source": [
    "test_bahan[0][0][0]"
   ]
  },
  {
   "cell_type": "code",
   "execution_count": 8,
   "metadata": {},
   "outputs": [
    {
     "data": {
      "text/plain": [
       "[0    [Lumuri ayam dengan jeruk nipis, diamkan selam...\n",
       " 1    [Cuci bersih ikan, beri perasan jeruk nipis da...\n",
       " 2    [Tumis bawang bombai dengan margarin dan minya...\n",
       " 3    [Haluskan semua bahan Bumbu dengan diulek atau...\n",
       " 4    [Panaskan minyak lalu tumis bumbu halus sampai...\n",
       " 5    [Goreng telur. Angkat lalu sisihkan., Haluskan...\n",
       " 6    [Panaskan minyak, tumis bawang putih, lengkuas...\n",
       " 7    [Panaskan minyak, tumis bawang merah, bawang p...\n",
       " Name: cara memasak, dtype: object]"
      ]
     },
     "execution_count": 8,
     "metadata": {},
     "output_type": "execute_result"
    }
   ],
   "source": [
    "test_cara = [food_df['cara memasak'].str.split(', ')]\n",
    "test_cara"
   ]
  },
  {
   "cell_type": "code",
   "execution_count": 9,
   "metadata": {},
   "outputs": [
    {
     "data": {
      "text/plain": [
       "['Lumuri ayam dengan jeruk nipis',\n",
       " 'diamkan selama 15 menit. Cuci bersih',\n",
       " 'Tumis bumbu halus bersama lengkuas dan sereh hingga harum.',\n",
       " 'Masukkan ayam. Aduk sampai setengah matang.',\n",
       " 'Beri kecap dan air. Biarkan sampai mendidih sambil sesekali diaduk.',\n",
       " 'Beri garam dan gula. Masak sampai air berkurang.',\n",
       " 'Panggang ayam',\n",
       " 'olesi dengan sisa bumbu.\\r\\n']"
      ]
     },
     "execution_count": 9,
     "metadata": {},
     "output_type": "execute_result"
    }
   ],
   "source": [
    "test_cara[0][0]"
   ]
  },
  {
   "cell_type": "code",
   "execution_count": 10,
   "metadata": {},
   "outputs": [
    {
     "data": {
      "text/plain": [
       "[0    [Kalori (147), Lemak (8,36 g), Karbohidrat (0 ...\n",
       " 1    [Kalori (125), Lemak (5,49 g), Karbohidrat (0 ...\n",
       " 2    [Kalori (159), Lemak (6,33 g), Karbohidrat (20...\n",
       " 3    [Kalori (195), Lemak (11,07 g), Karbohidrat (4...\n",
       " 4    [Kalori (134), Lemak (6,64 g), Karbohidrat (8,...\n",
       " 5    [Kalori (71), Lemak (5,75 g), Karbohidrat (1,2...\n",
       " 6    [Kalori (175), Lemak (8,2 g), Karbohidrat (15,...\n",
       " 7    [Kalori (7), Lemak (0,12 g), Karbohidrat (0,06...\n",
       " Name: gizi, dtype: object]"
      ]
     },
     "execution_count": 10,
     "metadata": {},
     "output_type": "execute_result"
    }
   ],
   "source": [
    "test_gizi = [food_df['gizi'].str.split(', ')]\n",
    "test_gizi"
   ]
  },
  {
   "cell_type": "code",
   "execution_count": 11,
   "metadata": {},
   "outputs": [
    {
     "data": {
      "text/plain": [
       "['Kalori (147)', 'Lemak (8,36 g)', 'Karbohidrat (0 g)', 'Protein (16,79 g)\\n']"
      ]
     },
     "execution_count": 11,
     "metadata": {},
     "output_type": "execute_result"
    }
   ],
   "source": [
    "test_gizi[0][0]"
   ]
  },
  {
   "cell_type": "code",
   "execution_count": null,
   "metadata": {},
   "outputs": [],
   "source": []
  }
 ],
 "metadata": {
  "kernelspec": {
   "display_name": "Python 3.9.7 ('base')",
   "language": "python",
   "name": "python3"
  },
  "language_info": {
   "codemirror_mode": {
    "name": "ipython",
    "version": 3
   },
   "file_extension": ".py",
   "mimetype": "text/x-python",
   "name": "python",
   "nbconvert_exporter": "python",
   "pygments_lexer": "ipython3",
   "version": "3.9.7"
  },
  "orig_nbformat": 4,
  "vscode": {
   "interpreter": {
    "hash": "9bce563f4c250286cf200fffc7c93cebffc4293288e1d11b5248bf02adddc1aa"
   }
  }
 },
 "nbformat": 4,
 "nbformat_minor": 2
}
