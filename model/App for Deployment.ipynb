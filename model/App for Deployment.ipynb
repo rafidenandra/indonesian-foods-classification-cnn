{
 "cells": [
  {
   "cell_type": "code",
   "execution_count": null,
   "metadata": {},
   "outputs": [],
   "source": [
    "# Std libraries\n",
    "import os\n",
    "import time\n",
    "import random\n",
    "from google.colab import drive\n",
    "\n",
    "# General libraries\n",
    "%matplotlib inline\n",
    "import PIL\n",
    "import pathlib\n",
    "import PIL.Image\n",
    "import numpy as np\n",
    "import pandas as pd\n",
    "import matplotlib.pyplot as plt\n",
    "import matplotlib.image as mpimg\n",
    "\n",
    "# Tensorflow & Keras\n",
    "import tensorflow as tf\n",
    "from tensorflow.keras import models\n",
    "from tensorflow.keras.utils import to_categorical\n",
    "from tensorflow.keras.initializers import RandomNormal, Constant\n",
    "from tensorflow.keras.models import load_model, model_from_json, save_model\n",
    "from tensorflow.keras.preprocessing.image import ImageDataGenerator, load_img\n",
    "from tensorflow.keras.callbacks import EarlyStopping, ReduceLROnPlateau, ModelCheckpoint\n",
    "\n",
    "# Sklearn\n",
    "from sklearn.model_selection import train_test_split\n",
    "from sklearn.metrics import roc_auc_score, roc_curve, auc, plot_confusion_matrix, classification_report, confusion_matrix, f1_score"
   ]
  },
  {
   "cell_type": "code",
   "execution_count": null,
   "id": "1a87788e",
   "metadata": {},
   "outputs": [],
   "source": [
    "saved_model = load_model('foodclassification.hdf5', compile=False)"
   ]
  },
  {
   "cell_type": "code",
   "execution_count": null,
   "id": "6a9ac365",
   "metadata": {},
   "outputs": [],
   "source": [
    "model_json = saved_model.to_json()\n",
    "with open(\"model.json\", \"w\") as json_file:\n",
    "    json_file.write(model_json)"
   ]
  },
  {
   "cell_type": "code",
   "execution_count": null,
   "id": "55a05ea4",
   "metadata": {},
   "outputs": [],
   "source": [
    "from keras import model_from_json "
   ]
  },
  {
   "cell_type": "code",
   "execution_count": null,
   "id": "be0e3a5e",
   "metadata": {},
   "outputs": [],
   "source": [
    "json_file = open('model.json','r')\n",
    "loaded_model_json = json_file.read()\n",
    "json_file.close()\n",
    "\n",
    "loaded_model = model_from_json(loaded_model_json)\n",
    "\n",
    "loaded_model.load_weights('foodclassification.hdf5')\n",
    "print(\"Loaded Model from disk\")\n",
    "\n",
    "loaded_model.compile(loss='categorical_crossentropy',optimizer='adam',metrics=['accuracy'])"
   ]
  },
  {
   "cell_type": "markdown",
   "id": "11e29740",
   "metadata": {},
   "source": [
    "### Flask App"
   ]
  },
  {
   "cell_type": "code",
   "execution_count": null,
   "id": "fc52dcb5",
   "metadata": {},
   "outputs": [],
   "source": [
    "from flask import Flask, render_template, request"
   ]
  },
  {
   "cell_type": "code",
   "execution_count": null,
   "id": "3a4ab8c3",
   "metadata": {},
   "outputs": [],
   "source": [
    "@app.route('/')\n",
    "def index_view():\n",
    "    return render_template('index.html')\n",
    "\n",
    "\n",
    "@app.route('/predict/',methods=['GET','POST'])\n",
    "def predict():\n",
    "\tresponse = \"For ML Prediction\"\n",
    "  return response\t\n",
    "\n",
    "if __name__ == '__main__':\n",
    "    app.run(debug=True, port=8000)"
   ]
  },
  {
   "cell_type": "code",
   "execution_count": null,
   "id": "e1b19b96",
   "metadata": {},
   "outputs": [],
   "source": [
    "from flask import Flask, render_template, request\n",
    "from scipy.misc import imsave, imread, imresize\n",
    "import numpy as np\n",
    "import tensorflow.keras.models\n",
    "import re\n",
    "import base64\n",
    "sys.path.append(os.path.abspath(\"./model\"))\n",
    "from load import * "
   ]
  },
  {
   "cell_type": "code",
   "execution_count": null,
   "id": "1b0e3ea2",
   "metadata": {},
   "outputs": [],
   "source": [
    "global graph, model\n",
    "\n",
    "model, graph = init()\n",
    "\n",
    "app = Flask(__name__)\n",
    "\n",
    "@app.route('/')\n",
    "def index_view():\n",
    "    return render_template('index.html')\n",
    "\n",
    "def convertImage(imgData1):\n",
    "\timgstr = re.search(b'base64,(.*)',imgData1).group(1)\n",
    "\twith open('output.png','wb') as output:\n",
    "\t    output.write(base64.b64decode(imgstr))\n",
    "\n",
    "@app.route('/predict/',methods=['GET','POST'])\n",
    "def predict():\n",
    "\timgData = request.get_data()\n",
    "\tconvertImage(imgData)\n",
    "\tx = imread('output.png',mode='L')\n",
    "\tx = np.invert(x)\n",
    "\tx = imresize(x,(28,28))\n",
    "\tx = x.reshape(1,28,28,1)\n",
    "\n",
    "\twith graph.as_default():\n",
    "\t\tout = model.predict(x)\n",
    "\t\tprint(out)\n",
    "\t\tprint(np.argmax(out,axis=1))\n",
    "\n",
    "\t\tresponse = np.array_str(np.argmax(out,axis=1))\n",
    "\t\treturn response\t\n",
    "\n",
    "if __name__ == '__main__':\n",
    "    app.run(debug=True, port=8000)"
   ]
  }
 ],
 "metadata": {
  "language_info": {
   "name": "python"
  }
 },
 "nbformat": 4,
 "nbformat_minor": 5
}
